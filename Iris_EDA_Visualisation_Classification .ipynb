{
  "nbformat": 4,
  "nbformat_minor": 0,
  "metadata": {
    "kernelspec": {
      "display_name": "Python 3",
      "language": "python",
      "name": "python3"
    },
    "language_info": {
      "codemirror_mode": {
        "name": "ipython",
        "version": 3
      },
      "file_extension": ".py",
      "mimetype": "text/x-python",
      "name": "python",
      "nbconvert_exporter": "python",
      "pygments_lexer": "ipython3",
      "version": "3.7.4"
    },
    "colab": {
      "name": "Iris_EDA_Visualisation_Classification.ipynb",
      "provenance": []
    }
  },
  "cells": [
    {
      "cell_type": "markdown",
      "metadata": {
        "id": "9Gpfx--sapnS"
      },
      "source": [
        "# Iris Dataset: EDA, Data Visualisation, and Classification\n",
        "Tentang dataset: [https://en.wikipedia.org/wiki/Iris_flower_data_set](https://en.wikipedia.org/wiki/Iris_flower_data_set) <br/>\n",
        "![iris](./img/iris_dataset.png)"
      ]
    },
    {
      "cell_type": "markdown",
      "metadata": {
        "id": "aO3rfgI3apnq"
      },
      "source": [
        "## Iris Dataset: Simple Exploratory Data Analysis (EDA)"
      ]
    },
    {
      "cell_type": "markdown",
      "metadata": {
        "id": "HLLYG3DBapnr"
      },
      "source": [
        "#### Import Modules"
      ]
    },
    {
      "cell_type": "code",
      "metadata": {
        "id": "jT7j76uMapnr"
      },
      "source": [
        "import pandas as pd # olah dan analisis data"
      ],
      "execution_count": 63,
      "outputs": []
    },
    {
      "cell_type": "markdown",
      "metadata": {
        "id": "XEYOoCQBapnr"
      },
      "source": [
        "#### Load dataset"
      ]
    },
    {
      "cell_type": "code",
      "metadata": {
        "colab": {
          "base_uri": "https://localhost:8080/",
          "height": 198
        },
        "id": "QkHoVmglapns",
        "outputId": "1c56c658-9862-40aa-ed0d-132ac04f6d10"
      },
      "source": [
        "iris_df = pd.read_csv('Iris.csv') # memuat file csv sebagai data frame\n",
        "iris_df.head() # tampilkan 5 baris pertama"
      ],
      "execution_count": 64,
      "outputs": [
        {
          "output_type": "execute_result",
          "data": {
            "text/html": [
              "<div>\n",
              "<style scoped>\n",
              "    .dataframe tbody tr th:only-of-type {\n",
              "        vertical-align: middle;\n",
              "    }\n",
              "\n",
              "    .dataframe tbody tr th {\n",
              "        vertical-align: top;\n",
              "    }\n",
              "\n",
              "    .dataframe thead th {\n",
              "        text-align: right;\n",
              "    }\n",
              "</style>\n",
              "<table border=\"1\" class=\"dataframe\">\n",
              "  <thead>\n",
              "    <tr style=\"text-align: right;\">\n",
              "      <th></th>\n",
              "      <th>Id</th>\n",
              "      <th>SepalLengthCm</th>\n",
              "      <th>SepalWidthCm</th>\n",
              "      <th>PetalLengthCm</th>\n",
              "      <th>PetalWidthCm</th>\n",
              "      <th>Species</th>\n",
              "    </tr>\n",
              "  </thead>\n",
              "  <tbody>\n",
              "    <tr>\n",
              "      <th>0</th>\n",
              "      <td>1</td>\n",
              "      <td>5.1</td>\n",
              "      <td>3.5</td>\n",
              "      <td>1.4</td>\n",
              "      <td>0.2</td>\n",
              "      <td>Iris-setosa</td>\n",
              "    </tr>\n",
              "    <tr>\n",
              "      <th>1</th>\n",
              "      <td>2</td>\n",
              "      <td>4.9</td>\n",
              "      <td>3.0</td>\n",
              "      <td>1.4</td>\n",
              "      <td>0.2</td>\n",
              "      <td>Iris-setosa</td>\n",
              "    </tr>\n",
              "    <tr>\n",
              "      <th>2</th>\n",
              "      <td>3</td>\n",
              "      <td>4.7</td>\n",
              "      <td>3.2</td>\n",
              "      <td>1.3</td>\n",
              "      <td>0.2</td>\n",
              "      <td>Iris-setosa</td>\n",
              "    </tr>\n",
              "    <tr>\n",
              "      <th>3</th>\n",
              "      <td>4</td>\n",
              "      <td>4.6</td>\n",
              "      <td>3.1</td>\n",
              "      <td>1.5</td>\n",
              "      <td>0.2</td>\n",
              "      <td>Iris-setosa</td>\n",
              "    </tr>\n",
              "    <tr>\n",
              "      <th>4</th>\n",
              "      <td>5</td>\n",
              "      <td>5.0</td>\n",
              "      <td>3.6</td>\n",
              "      <td>1.4</td>\n",
              "      <td>0.2</td>\n",
              "      <td>Iris-setosa</td>\n",
              "    </tr>\n",
              "  </tbody>\n",
              "</table>\n",
              "</div>"
            ],
            "text/plain": [
              "   Id  SepalLengthCm  SepalWidthCm  PetalLengthCm  PetalWidthCm      Species\n",
              "0   1            5.1           3.5            1.4           0.2  Iris-setosa\n",
              "1   2            4.9           3.0            1.4           0.2  Iris-setosa\n",
              "2   3            4.7           3.2            1.3           0.2  Iris-setosa\n",
              "3   4            4.6           3.1            1.5           0.2  Iris-setosa\n",
              "4   5            5.0           3.6            1.4           0.2  Iris-setosa"
            ]
          },
          "metadata": {
            "tags": []
          },
          "execution_count": 64
        }
      ]
    },
    {
      "cell_type": "markdown",
      "metadata": {
        "id": "sqlPJyVFapns"
      },
      "source": [
        "#### Drop column 'Id'"
      ]
    },
    {
      "cell_type": "code",
      "metadata": {
        "colab": {
          "base_uri": "https://localhost:8080/",
          "height": 198
        },
        "id": "kPSFZItvapnt",
        "outputId": "0cd364eb-49ad-4d68-ddcc-41c1d44e4350"
      },
      "source": [
        "# iris_df = iris_df.drop(columns='Id')\n",
        "iris_df.drop(columns='Id', inplace=True) # menghapus kolom bernama 'Id'\n",
        "iris_df.head() # tampilkan 5 baris pertama"
      ],
      "execution_count": 65,
      "outputs": [
        {
          "output_type": "execute_result",
          "data": {
            "text/html": [
              "<div>\n",
              "<style scoped>\n",
              "    .dataframe tbody tr th:only-of-type {\n",
              "        vertical-align: middle;\n",
              "    }\n",
              "\n",
              "    .dataframe tbody tr th {\n",
              "        vertical-align: top;\n",
              "    }\n",
              "\n",
              "    .dataframe thead th {\n",
              "        text-align: right;\n",
              "    }\n",
              "</style>\n",
              "<table border=\"1\" class=\"dataframe\">\n",
              "  <thead>\n",
              "    <tr style=\"text-align: right;\">\n",
              "      <th></th>\n",
              "      <th>SepalLengthCm</th>\n",
              "      <th>SepalWidthCm</th>\n",
              "      <th>PetalLengthCm</th>\n",
              "      <th>PetalWidthCm</th>\n",
              "      <th>Species</th>\n",
              "    </tr>\n",
              "  </thead>\n",
              "  <tbody>\n",
              "    <tr>\n",
              "      <th>0</th>\n",
              "      <td>5.1</td>\n",
              "      <td>3.5</td>\n",
              "      <td>1.4</td>\n",
              "      <td>0.2</td>\n",
              "      <td>Iris-setosa</td>\n",
              "    </tr>\n",
              "    <tr>\n",
              "      <th>1</th>\n",
              "      <td>4.9</td>\n",
              "      <td>3.0</td>\n",
              "      <td>1.4</td>\n",
              "      <td>0.2</td>\n",
              "      <td>Iris-setosa</td>\n",
              "    </tr>\n",
              "    <tr>\n",
              "      <th>2</th>\n",
              "      <td>4.7</td>\n",
              "      <td>3.2</td>\n",
              "      <td>1.3</td>\n",
              "      <td>0.2</td>\n",
              "      <td>Iris-setosa</td>\n",
              "    </tr>\n",
              "    <tr>\n",
              "      <th>3</th>\n",
              "      <td>4.6</td>\n",
              "      <td>3.1</td>\n",
              "      <td>1.5</td>\n",
              "      <td>0.2</td>\n",
              "      <td>Iris-setosa</td>\n",
              "    </tr>\n",
              "    <tr>\n",
              "      <th>4</th>\n",
              "      <td>5.0</td>\n",
              "      <td>3.6</td>\n",
              "      <td>1.4</td>\n",
              "      <td>0.2</td>\n",
              "      <td>Iris-setosa</td>\n",
              "    </tr>\n",
              "  </tbody>\n",
              "</table>\n",
              "</div>"
            ],
            "text/plain": [
              "   SepalLengthCm  SepalWidthCm  PetalLengthCm  PetalWidthCm      Species\n",
              "0            5.1           3.5            1.4           0.2  Iris-setosa\n",
              "1            4.9           3.0            1.4           0.2  Iris-setosa\n",
              "2            4.7           3.2            1.3           0.2  Iris-setosa\n",
              "3            4.6           3.1            1.5           0.2  Iris-setosa\n",
              "4            5.0           3.6            1.4           0.2  Iris-setosa"
            ]
          },
          "metadata": {
            "tags": []
          },
          "execution_count": 65
        }
      ]
    },
    {
      "cell_type": "markdown",
      "metadata": {
        "id": "aHjjahG3apnt"
      },
      "source": [
        "#### Identify the shape of the datatset"
      ]
    },
    {
      "cell_type": "code",
      "metadata": {
        "colab": {
          "base_uri": "https://localhost:8080/"
        },
        "id": "m6bZQTyjapnu",
        "outputId": "d75ce6c1-8517-45a5-f1c4-f98d2e3fad8b"
      },
      "source": [
        "iris_df.shape # bentuk/dimensi dataset (baris,kolom)"
      ],
      "execution_count": 66,
      "outputs": [
        {
          "output_type": "execute_result",
          "data": {
            "text/plain": [
              "(150, 5)"
            ]
          },
          "metadata": {
            "tags": []
          },
          "execution_count": 66
        }
      ]
    },
    {
      "cell_type": "markdown",
      "metadata": {
        "id": "1b7ZFuCAapnu"
      },
      "source": [
        "#### Get the list of columns"
      ]
    },
    {
      "cell_type": "code",
      "metadata": {
        "colab": {
          "base_uri": "https://localhost:8080/"
        },
        "id": "tOVhhaDTapnu",
        "outputId": "93891440-8194-4624-ad18-abe392be2a7f"
      },
      "source": [
        "iris_df.columns # daftar nama kolom"
      ],
      "execution_count": 67,
      "outputs": [
        {
          "output_type": "execute_result",
          "data": {
            "text/plain": [
              "Index(['SepalLengthCm', 'SepalWidthCm', 'PetalLengthCm', 'PetalWidthCm',\n",
              "       'Species'],\n",
              "      dtype='object')"
            ]
          },
          "metadata": {
            "tags": []
          },
          "execution_count": 67
        }
      ]
    },
    {
      "cell_type": "markdown",
      "metadata": {
        "id": "MtpMJH9Iapnv"
      },
      "source": [
        "#### Identify data types for each column"
      ]
    },
    {
      "cell_type": "code",
      "metadata": {
        "colab": {
          "base_uri": "https://localhost:8080/"
        },
        "id": "DlCX8hUbapnv",
        "outputId": "916aa360-2891-4553-cad4-4f2fb318ba42"
      },
      "source": [
        "iris_df.dtypes # tipe data untuk tiap kolom"
      ],
      "execution_count": 68,
      "outputs": [
        {
          "output_type": "execute_result",
          "data": {
            "text/plain": [
              "SepalLengthCm    float64\n",
              "SepalWidthCm     float64\n",
              "PetalLengthCm    float64\n",
              "PetalWidthCm     float64\n",
              "Species           object\n",
              "dtype: object"
            ]
          },
          "metadata": {
            "tags": []
          },
          "execution_count": 68
        }
      ]
    },
    {
      "cell_type": "markdown",
      "metadata": {
        "id": "QAShoR6eapnv"
      },
      "source": [
        "#### Get bassic dataset information"
      ]
    },
    {
      "cell_type": "code",
      "metadata": {
        "colab": {
          "base_uri": "https://localhost:8080/"
        },
        "id": "UjtLrRdYapnw",
        "outputId": "525b7ab2-e36c-4a53-9361-7510ee60adf9"
      },
      "source": [
        "iris_df.info() # informasi dataset"
      ],
      "execution_count": 69,
      "outputs": [
        {
          "output_type": "stream",
          "text": [
            "<class 'pandas.core.frame.DataFrame'>\n",
            "RangeIndex: 150 entries, 0 to 149\n",
            "Data columns (total 5 columns):\n",
            " #   Column         Non-Null Count  Dtype  \n",
            "---  ------         --------------  -----  \n",
            " 0   SepalLengthCm  150 non-null    float64\n",
            " 1   SepalWidthCm   150 non-null    float64\n",
            " 2   PetalLengthCm  150 non-null    float64\n",
            " 3   PetalWidthCm   150 non-null    float64\n",
            " 4   Species        150 non-null    object \n",
            "dtypes: float64(4), object(1)\n",
            "memory usage: 6.0+ KB\n"
          ],
          "name": "stdout"
        }
      ]
    },
    {
      "cell_type": "markdown",
      "metadata": {
        "id": "pn6VS_cJapnw"
      },
      "source": [
        "#### Identify missing values"
      ]
    },
    {
      "cell_type": "code",
      "metadata": {
        "colab": {
          "base_uri": "https://localhost:8080/"
        },
        "id": "gHDsspdBapnw",
        "outputId": "7f54d5fe-adb2-4339-f747-9f0180ab5c3a"
      },
      "source": [
        "# iris_df.isnull().values.any()\n",
        "iris_df.isna().values.any() # mendeteksi keberadaan nilai kosong"
      ],
      "execution_count": 70,
      "outputs": [
        {
          "output_type": "execute_result",
          "data": {
            "text/plain": [
              "False"
            ]
          },
          "metadata": {
            "tags": []
          },
          "execution_count": 70
        }
      ]
    },
    {
      "cell_type": "markdown",
      "metadata": {
        "id": "CnV7IqIRapnx"
      },
      "source": [
        "#### Identify duplicate entries/rows"
      ]
    },
    {
      "cell_type": "code",
      "metadata": {
        "colab": {
          "base_uri": "https://localhost:8080/",
          "height": 138
        },
        "id": "54V049mRapnx",
        "outputId": "0cb2ee60-f91d-4fad-b332-08925d2b127c"
      },
      "source": [
        "# iris_df[iris_df.duplicated(keep=False)] # tampilkan seluruh baris dengan duplikasi\n",
        "iris_df[iris_df.duplicated()] # tampilkan hanya baris duplikasi sekunder"
      ],
      "execution_count": 71,
      "outputs": [
        {
          "output_type": "execute_result",
          "data": {
            "text/html": [
              "<div>\n",
              "<style scoped>\n",
              "    .dataframe tbody tr th:only-of-type {\n",
              "        vertical-align: middle;\n",
              "    }\n",
              "\n",
              "    .dataframe tbody tr th {\n",
              "        vertical-align: top;\n",
              "    }\n",
              "\n",
              "    .dataframe thead th {\n",
              "        text-align: right;\n",
              "    }\n",
              "</style>\n",
              "<table border=\"1\" class=\"dataframe\">\n",
              "  <thead>\n",
              "    <tr style=\"text-align: right;\">\n",
              "      <th></th>\n",
              "      <th>SepalLengthCm</th>\n",
              "      <th>SepalWidthCm</th>\n",
              "      <th>PetalLengthCm</th>\n",
              "      <th>PetalWidthCm</th>\n",
              "      <th>Species</th>\n",
              "    </tr>\n",
              "  </thead>\n",
              "  <tbody>\n",
              "    <tr>\n",
              "      <th>34</th>\n",
              "      <td>4.9</td>\n",
              "      <td>3.1</td>\n",
              "      <td>1.5</td>\n",
              "      <td>0.1</td>\n",
              "      <td>Iris-setosa</td>\n",
              "    </tr>\n",
              "    <tr>\n",
              "      <th>37</th>\n",
              "      <td>4.9</td>\n",
              "      <td>3.1</td>\n",
              "      <td>1.5</td>\n",
              "      <td>0.1</td>\n",
              "      <td>Iris-setosa</td>\n",
              "    </tr>\n",
              "    <tr>\n",
              "      <th>142</th>\n",
              "      <td>5.8</td>\n",
              "      <td>2.7</td>\n",
              "      <td>5.1</td>\n",
              "      <td>1.9</td>\n",
              "      <td>Iris-virginica</td>\n",
              "    </tr>\n",
              "  </tbody>\n",
              "</table>\n",
              "</div>"
            ],
            "text/plain": [
              "     SepalLengthCm  SepalWidthCm  PetalLengthCm  PetalWidthCm         Species\n",
              "34             4.9           3.1            1.5           0.1     Iris-setosa\n",
              "37             4.9           3.1            1.5           0.1     Iris-setosa\n",
              "142            5.8           2.7            5.1           1.9  Iris-virginica"
            ]
          },
          "metadata": {
            "tags": []
          },
          "execution_count": 71
        }
      ]
    },
    {
      "cell_type": "code",
      "metadata": {
        "colab": {
          "base_uri": "https://localhost:8080/"
        },
        "id": "TYX3WdsYapnx",
        "outputId": "af8015bc-b222-475f-cee4-00662be733d4"
      },
      "source": [
        "iris_df.duplicated().value_counts() # hitung jumlah duplikasi data"
      ],
      "execution_count": 72,
      "outputs": [
        {
          "output_type": "execute_result",
          "data": {
            "text/plain": [
              "False    147\n",
              "True       3\n",
              "dtype: int64"
            ]
          },
          "metadata": {
            "tags": []
          },
          "execution_count": 72
        }
      ]
    },
    {
      "cell_type": "markdown",
      "metadata": {
        "id": "XgETOL3Iapny"
      },
      "source": [
        "#### Drop duplicate entries/rows"
      ]
    },
    {
      "cell_type": "code",
      "metadata": {
        "colab": {
          "base_uri": "https://localhost:8080/"
        },
        "id": "Z6tmKf4Eapny",
        "outputId": "b1bbd683-a2dc-4c39-df2a-e59fbeecefef"
      },
      "source": [
        "iris_df.drop_duplicates(inplace=True) # menghapus duplikasi data\n",
        "iris_df.shape"
      ],
      "execution_count": 73,
      "outputs": [
        {
          "output_type": "execute_result",
          "data": {
            "text/plain": [
              "(147, 5)"
            ]
          },
          "metadata": {
            "tags": []
          },
          "execution_count": 73
        }
      ]
    },
    {
      "cell_type": "markdown",
      "metadata": {
        "id": "Uqo_7z91apny"
      },
      "source": [
        "\n",
        "\n",
        "```\n",
        "# Ini diformat sebagai kode\n",
        "```\n",
        "\n",
        "#### Describe the dataset"
      ]
    },
    {
      "cell_type": "code",
      "metadata": {
        "colab": {
          "base_uri": "https://localhost:8080/",
          "height": 288
        },
        "id": "gd6oUJZSapnz",
        "outputId": "45dfee04-5e42-4e4f-d4a8-1d56cf630cc3"
      },
      "source": [
        "iris_df.describe() # deskripsi data"
      ],
      "execution_count": 74,
      "outputs": [
        {
          "output_type": "execute_result",
          "data": {
            "text/html": [
              "<div>\n",
              "<style scoped>\n",
              "    .dataframe tbody tr th:only-of-type {\n",
              "        vertical-align: middle;\n",
              "    }\n",
              "\n",
              "    .dataframe tbody tr th {\n",
              "        vertical-align: top;\n",
              "    }\n",
              "\n",
              "    .dataframe thead th {\n",
              "        text-align: right;\n",
              "    }\n",
              "</style>\n",
              "<table border=\"1\" class=\"dataframe\">\n",
              "  <thead>\n",
              "    <tr style=\"text-align: right;\">\n",
              "      <th></th>\n",
              "      <th>SepalLengthCm</th>\n",
              "      <th>SepalWidthCm</th>\n",
              "      <th>PetalLengthCm</th>\n",
              "      <th>PetalWidthCm</th>\n",
              "    </tr>\n",
              "  </thead>\n",
              "  <tbody>\n",
              "    <tr>\n",
              "      <th>count</th>\n",
              "      <td>147.000000</td>\n",
              "      <td>147.000000</td>\n",
              "      <td>147.000000</td>\n",
              "      <td>147.000000</td>\n",
              "    </tr>\n",
              "    <tr>\n",
              "      <th>mean</th>\n",
              "      <td>5.856463</td>\n",
              "      <td>3.055782</td>\n",
              "      <td>3.780272</td>\n",
              "      <td>1.208844</td>\n",
              "    </tr>\n",
              "    <tr>\n",
              "      <th>std</th>\n",
              "      <td>0.829100</td>\n",
              "      <td>0.437009</td>\n",
              "      <td>1.759111</td>\n",
              "      <td>0.757874</td>\n",
              "    </tr>\n",
              "    <tr>\n",
              "      <th>min</th>\n",
              "      <td>4.300000</td>\n",
              "      <td>2.000000</td>\n",
              "      <td>1.000000</td>\n",
              "      <td>0.100000</td>\n",
              "    </tr>\n",
              "    <tr>\n",
              "      <th>25%</th>\n",
              "      <td>5.100000</td>\n",
              "      <td>2.800000</td>\n",
              "      <td>1.600000</td>\n",
              "      <td>0.300000</td>\n",
              "    </tr>\n",
              "    <tr>\n",
              "      <th>50%</th>\n",
              "      <td>5.800000</td>\n",
              "      <td>3.000000</td>\n",
              "      <td>4.400000</td>\n",
              "      <td>1.300000</td>\n",
              "    </tr>\n",
              "    <tr>\n",
              "      <th>75%</th>\n",
              "      <td>6.400000</td>\n",
              "      <td>3.300000</td>\n",
              "      <td>5.100000</td>\n",
              "      <td>1.800000</td>\n",
              "    </tr>\n",
              "    <tr>\n",
              "      <th>max</th>\n",
              "      <td>7.900000</td>\n",
              "      <td>4.400000</td>\n",
              "      <td>6.900000</td>\n",
              "      <td>2.500000</td>\n",
              "    </tr>\n",
              "  </tbody>\n",
              "</table>\n",
              "</div>"
            ],
            "text/plain": [
              "       SepalLengthCm  SepalWidthCm  PetalLengthCm  PetalWidthCm\n",
              "count     147.000000    147.000000     147.000000    147.000000\n",
              "mean        5.856463      3.055782       3.780272      1.208844\n",
              "std         0.829100      0.437009       1.759111      0.757874\n",
              "min         4.300000      2.000000       1.000000      0.100000\n",
              "25%         5.100000      2.800000       1.600000      0.300000\n",
              "50%         5.800000      3.000000       4.400000      1.300000\n",
              "75%         6.400000      3.300000       5.100000      1.800000\n",
              "max         7.900000      4.400000       6.900000      2.500000"
            ]
          },
          "metadata": {
            "tags": []
          },
          "execution_count": 74
        }
      ]
    },
    {
      "cell_type": "markdown",
      "metadata": {
        "id": "qbwXV2yYapnz"
      },
      "source": [
        "#### Correlation Matrix"
      ]
    },
    {
      "cell_type": "code",
      "metadata": {
        "colab": {
          "base_uri": "https://localhost:8080/",
          "height": 168
        },
        "id": "SxdG22fpapnz",
        "outputId": "ec992a7d-dedb-40ea-e3c8-621fd0fe998c"
      },
      "source": [
        "iris_df.corr() # korelasi antar kolom"
      ],
      "execution_count": 75,
      "outputs": [
        {
          "output_type": "execute_result",
          "data": {
            "text/html": [
              "<div>\n",
              "<style scoped>\n",
              "    .dataframe tbody tr th:only-of-type {\n",
              "        vertical-align: middle;\n",
              "    }\n",
              "\n",
              "    .dataframe tbody tr th {\n",
              "        vertical-align: top;\n",
              "    }\n",
              "\n",
              "    .dataframe thead th {\n",
              "        text-align: right;\n",
              "    }\n",
              "</style>\n",
              "<table border=\"1\" class=\"dataframe\">\n",
              "  <thead>\n",
              "    <tr style=\"text-align: right;\">\n",
              "      <th></th>\n",
              "      <th>SepalLengthCm</th>\n",
              "      <th>SepalWidthCm</th>\n",
              "      <th>PetalLengthCm</th>\n",
              "      <th>PetalWidthCm</th>\n",
              "    </tr>\n",
              "  </thead>\n",
              "  <tbody>\n",
              "    <tr>\n",
              "      <th>SepalLengthCm</th>\n",
              "      <td>1.000000</td>\n",
              "      <td>-0.109321</td>\n",
              "      <td>0.871305</td>\n",
              "      <td>0.817058</td>\n",
              "    </tr>\n",
              "    <tr>\n",
              "      <th>SepalWidthCm</th>\n",
              "      <td>-0.109321</td>\n",
              "      <td>1.000000</td>\n",
              "      <td>-0.421057</td>\n",
              "      <td>-0.356376</td>\n",
              "    </tr>\n",
              "    <tr>\n",
              "      <th>PetalLengthCm</th>\n",
              "      <td>0.871305</td>\n",
              "      <td>-0.421057</td>\n",
              "      <td>1.000000</td>\n",
              "      <td>0.961883</td>\n",
              "    </tr>\n",
              "    <tr>\n",
              "      <th>PetalWidthCm</th>\n",
              "      <td>0.817058</td>\n",
              "      <td>-0.356376</td>\n",
              "      <td>0.961883</td>\n",
              "      <td>1.000000</td>\n",
              "    </tr>\n",
              "  </tbody>\n",
              "</table>\n",
              "</div>"
            ],
            "text/plain": [
              "               SepalLengthCm  SepalWidthCm  PetalLengthCm  PetalWidthCm\n",
              "SepalLengthCm       1.000000     -0.109321       0.871305      0.817058\n",
              "SepalWidthCm       -0.109321      1.000000      -0.421057     -0.356376\n",
              "PetalLengthCm       0.871305     -0.421057       1.000000      0.961883\n",
              "PetalWidthCm        0.817058     -0.356376       0.961883      1.000000"
            ]
          },
          "metadata": {
            "tags": []
          },
          "execution_count": 75
        }
      ]
    },
    {
      "cell_type": "markdown",
      "metadata": {
        "id": "opJNj3PYapn0"
      },
      "source": [
        "## Iris Dataset: Data Visualisation"
      ]
    },
    {
      "cell_type": "markdown",
      "metadata": {
        "id": "1tho2bBfapn0"
      },
      "source": [
        "#### Import Modules"
      ]
    },
    {
      "cell_type": "code",
      "metadata": {
        "id": "bkLJSmyEapn0"
      },
      "source": [
        "import matplotlib.pyplot as plt # visualisasi data\n",
        "import seaborn as sns # visualisasi data\n",
        "\n",
        "# output dari visualisasi data akan diarahkan ke notebook\n",
        "%matplotlib inline "
      ],
      "execution_count": 76,
      "outputs": []
    },
    {
      "cell_type": "markdown",
      "metadata": {
        "jupyter": {
          "outputs_hidden": true
        },
        "id": "2rOAU0mUapn0"
      },
      "source": [
        "#### Heatmap"
      ]
    },
    {
      "cell_type": "code",
      "metadata": {
        "colab": {
          "base_uri": "https://localhost:8080/",
          "height": 0
        },
        "id": "2jmD2w9vapn1",
        "outputId": "86d19d79-954d-4ed7-d7cf-d168802fba38"
      },
      "source": [
        "sns.heatmap(data=iris_df.corr())"
      ],
      "execution_count": 77,
      "outputs": [
        {
          "output_type": "execute_result",
          "data": {
            "text/plain": [
              "<matplotlib.axes._subplots.AxesSubplot at 0x7f0ee63f6c90>"
            ]
          },
          "metadata": {
            "tags": []
          },
          "execution_count": 77
        },
        {
          "output_type": "display_data",
          "data": {
            "image/png": "[encoded data removed]",
            "text/plain": [
              "<Figure size 432x288 with 2 Axes>"
            ]
          },
          "metadata": {
            "tags": [],
            "needs_background": "light"
          }
        }
      ]
    },
    {
      "cell_type": "markdown",
      "metadata": {
        "id": "lYSZD_6fapn1"
      },
      "source": [
        "#### Bar Plot"
      ]
    },
    {
      "cell_type": "code",
      "metadata": {
        "colab": {
          "base_uri": "https://localhost:8080/"
        },
        "id": "BW6AHs_papn1",
        "outputId": "ddf7eed9-f779-496e-af4b-73d0a7b0b07a"
      },
      "source": [
        "iris_df['Species'].value_counts() # menghitung jumlah setiap species"
      ],
      "execution_count": 78,
      "outputs": [
        {
          "output_type": "execute_result",
          "data": {
            "text/plain": [
              "Iris-versicolor    50\n",
              "Iris-virginica     49\n",
              "Iris-setosa        48\n",
              "Name: Species, dtype: int64"
            ]
          },
          "metadata": {
            "tags": []
          },
          "execution_count": 78
        }
      ]
    },
    {
      "cell_type": "code",
      "metadata": {
        "colab": {
          "base_uri": "https://localhost:8080/",
          "height": 0
        },
        "id": "GqtKUbqnapn1",
        "outputId": "01948e52-be2b-4bbd-fd19-6431e0506135"
      },
      "source": [
        "iris_df['Species'].value_counts().plot.bar()\n",
        "plt.tight_layout()\n",
        "plt.show()"
      ],
      "execution_count": 79,
      "outputs": [
        {
          "output_type": "display_data",
          "data": {
            "image/png": "[encoded data removed]",
            "text/plain": [
              "<Figure size 432x288 with 1 Axes>"
            ]
          },
          "metadata": {
            "tags": [],
            "needs_background": "light"
          }
        }
      ]
    },
    {
      "cell_type": "code",
      "metadata": {
        "colab": {
          "base_uri": "https://localhost:8080/",
          "height": 0
        },
        "id": "OlJrHa3gapn2",
        "outputId": "ecbfd493-eb6e-4e49-99f8-be25afced80c"
      },
      "source": [
        "sns.countplot(data=iris_df, x='Species')\n",
        "plt.tight_layout()\n",
        "# sns.countplot?"
      ],
      "execution_count": 80,
      "outputs": [
        {
          "output_type": "display_data",
          "data": {
            "image/png": "[encoded data removed]",
            "text/plain": [
              "<Figure size 432x288 with 1 Axes>"
            ]
          },
          "metadata": {
            "tags": [],
            "needs_background": "light"
          }
        }
      ]
    },
    {
      "cell_type": "markdown",
      "metadata": {
        "id": "0rqpdJIrapn2"
      },
      "source": [
        "#### Pie Chart"
      ]
    },
    {
      "cell_type": "code",
      "metadata": {
        "colab": {
          "base_uri": "https://localhost:8080/",
          "height": 0
        },
        "id": "gIjneR8Fapn2",
        "outputId": "d611c6a6-75f1-4d8e-8f35-e3d4df0c4bfc"
      },
      "source": [
        "iris_df['Species'].value_counts().plot.pie(autopct='%1.1f%%', labels=None, legend=True)\n",
        "plt.tight_layout()"
      ],
      "execution_count": 81,
      "outputs": [
        {
          "output_type": "display_data",
          "data": {
            "image/png": "[encoded data removed]",
            "text/plain": [
              "<Figure size 432x288 with 1 Axes>"
            ]
          },
          "metadata": {
            "tags": []
          }
        }
      ]
    },
    {
      "cell_type": "markdown",
      "metadata": {
        "id": "_Y3bjhbJapn3"
      },
      "source": [
        "#### Line Plot"
      ]
    },
    {
      "cell_type": "code",
      "metadata": {
        "colab": {
          "base_uri": "https://localhost:8080/",
          "height": 0
        },
        "id": "5l0thRRqapn3",
        "outputId": "ef02d7ec-6e99-4848-ccf3-4deda58528e5"
      },
      "source": [
        "fig,ax = plt.subplots(nrows=2, ncols=2, figsize=(8,8))\n",
        "\n",
        "iris_df['SepalLengthCm'].plot.line(ax=ax[0][0])\n",
        "ax[0][0].set_title('Sepal Length')\n",
        "\n",
        "iris_df['SepalWidthCm'].plot.line(ax=ax[0][1])\n",
        "ax[0][1].set_title('Sepal Width')\n",
        "\n",
        "iris_df.PetalLengthCm.plot.line(ax=ax[1][0])\n",
        "ax[1][0].set_title('Petal Length')\n",
        "\n",
        "iris_df.PetalWidthCm.plot.line(ax=ax[1][1])\n",
        "ax[1][1].set_title('Petal Width')"
      ],
      "execution_count": 82,
      "outputs": [
        {
          "output_type": "execute_result",
          "data": {
            "text/plain": [
              "Text(0.5, 1.0, 'Petal Width')"
            ]
          },
          "metadata": {
            "tags": []
          },
          "execution_count": 82
        },
        {
          "output_type": "display_data",
          "data": {
            "image/png": "[encoded data removed]",
            "text/plain": [
              "<Figure size 576x576 with 4 Axes>"
            ]
          },
          "metadata": {
            "tags": [],
            "needs_background": "light"
          }
        }
      ]
    },
    {
      "cell_type": "code",
      "metadata": {
        "colab": {
          "base_uri": "https://localhost:8080/",
          "height": 0
        },
        "id": "D6LHh1QPapn3",
        "outputId": "4cf230a6-cfe8-4bd0-ff18-026734130ad3"
      },
      "source": [
        "iris_df.plot()\n",
        "plt.tight_layout()"
      ],
      "execution_count": 83,
      "outputs": [
        {
          "output_type": "display_data",
          "data": {
            "image/png": "[encoded data removed]",
            "text/plain": [
              "<Figure size 432x288 with 1 Axes>"
            ]
          },
          "metadata": {
            "tags": [],
            "needs_background": "light"
          }
        }
      ]
    },
    {
      "cell_type": "markdown",
      "metadata": {
        "id": "fEQ8pkcRapn4"
      },
      "source": [
        "#### Histogram"
      ]
    },
    {
      "cell_type": "code",
      "metadata": {
        "colab": {
          "base_uri": "https://localhost:8080/",
          "height": 0
        },
        "id": "Xvy2-t7xapn4",
        "outputId": "c6148b38-3102-49b9-be29-d7d9ee548443"
      },
      "source": [
        "iris_df.hist(figsize=(6,6), bins=10)\n",
        "plt.tight_layout()"
      ],
      "execution_count": 84,
      "outputs": [
        {
          "output_type": "display_data",
          "data": {
            "image/png": "[encoded data removed]",
            "text/plain": [
              "<Figure size 432x432 with 4 Axes>"
            ]
          },
          "metadata": {
            "tags": [],
            "needs_background": "light"
          }
        }
      ]
    },
    {
      "cell_type": "markdown",
      "metadata": {
        "id": "VC1VkWGuapn4"
      },
      "source": [
        "#### Boxplot"
      ]
    },
    {
      "cell_type": "code",
      "metadata": {
        "colab": {
          "base_uri": "https://localhost:8080/",
          "height": 0
        },
        "id": "AJR3PxcKapn5",
        "outputId": "17348043-eaba-463d-8180-2d29a5ecb3e2"
      },
      "source": [
        "iris_df.boxplot()\n",
        "plt.tight_layout()"
      ],
      "execution_count": 85,
      "outputs": [
        {
          "output_type": "display_data",
          "data": {
            "image/png": "[encoded data removed]",
            "text/plain": [
              "<Figure size 432x288 with 1 Axes>"
            ]
          },
          "metadata": {
            "tags": [],
            "needs_background": "light"
          }
        }
      ]
    },
    {
      "cell_type": "code",
      "metadata": {
        "colab": {
          "base_uri": "https://localhost:8080/",
          "height": 0
        },
        "id": "fWImNgYIapn5",
        "outputId": "a0e22501-b76a-4933-8b4b-a97e0af4dc06"
      },
      "source": [
        "iris_df.boxplot(by=\"Species\", figsize=(8,8))\n",
        "plt.tight_layout()"
      ],
      "execution_count": 86,
      "outputs": [
        {
          "output_type": "stream",
          "text": [
            "/usr/local/lib/python3.7/dist-packages/numpy/core/_asarray.py:83: VisibleDeprecationWarning: Creating an ndarray from ragged nested sequences (which is a list-or-tuple of lists-or-tuples-or ndarrays with different lengths or shapes) is deprecated. If you meant to do this, you must specify 'dtype=object' when creating the ndarray\n",
            "  return array(a, dtype, copy=False, order=order)\n",
            "/usr/local/lib/python3.7/dist-packages/numpy/core/_asarray.py:83: VisibleDeprecationWarning: Creating an ndarray from ragged nested sequences (which is a list-or-tuple of lists-or-tuples-or ndarrays with different lengths or shapes) is deprecated. If you meant to do this, you must specify 'dtype=object' when creating the ndarray\n",
            "  return array(a, dtype, copy=False, order=order)\n",
            "/usr/local/lib/python3.7/dist-packages/numpy/core/_asarray.py:83: VisibleDeprecationWarning: Creating an ndarray from ragged nested sequences (which is a list-or-tuple of lists-or-tuples-or ndarrays with different lengths or shapes) is deprecated. If you meant to do this, you must specify 'dtype=object' when creating the ndarray\n",
            "  return array(a, dtype, copy=False, order=order)\n",
            "/usr/local/lib/python3.7/dist-packages/numpy/core/_asarray.py:83: VisibleDeprecationWarning: Creating an ndarray from ragged nested sequences (which is a list-or-tuple of lists-or-tuples-or ndarrays with different lengths or shapes) is deprecated. If you meant to do this, you must specify 'dtype=object' when creating the ndarray\n",
            "  return array(a, dtype, copy=False, order=order)\n"
          ],
          "name": "stderr"
        },
        {
          "output_type": "display_data",
          "data": {
            "image/png": "[encoded data removed]",
            "text/plain": [
              "<Figure size 576x576 with 4 Axes>"
            ]
          },
          "metadata": {
            "tags": [],
            "needs_background": "light"
          }
        }
      ]
    },
    {
      "cell_type": "markdown",
      "metadata": {
        "id": "jMCEXgRLapn5"
      },
      "source": [
        "#### Scatter Plot"
      ]
    },
    {
      "cell_type": "code",
      "metadata": {
        "colab": {
          "base_uri": "https://localhost:8080/",
          "height": 0
        },
        "id": "JiWDgFRIapn5",
        "outputId": "f47047a4-3090-4d07-d705-aa3eb3d366a0"
      },
      "source": [
        "sns.scatterplot(x='SepalLengthCm', y='SepalWidthCm', data=iris_df, hue='Species')\n",
        "plt.tight_layout()"
      ],
      "execution_count": 87,
      "outputs": [
        {
          "output_type": "display_data",
          "data": {
            "image/png": "[encoded data removed]",
            "text/plain": [
              "<Figure size 432x288 with 1 Axes>"
            ]
          },
          "metadata": {
            "tags": [],
            "needs_background": "light"
          }
        }
      ]
    },
    {
      "cell_type": "markdown",
      "metadata": {
        "id": "SZz2mnheapn6"
      },
      "source": [
        "#### Pair Plot"
      ]
    },
    {
      "cell_type": "code",
      "metadata": {
        "id": "GebpICp-apn6"
      },
      "source": [
        "sns.pairplot(iris_df, hue='Species', markers='+')\n",
        "plt.tight_layout()"
      ],
      "execution_count": null,
      "outputs": []
    },
    {
      "cell_type": "markdown",
      "metadata": {
        "id": "rExmysCvapn6"
      },
      "source": [
        "#### Violin Plot"
      ]
    },
    {
      "cell_type": "code",
      "metadata": {
        "id": "HYkAXOoXapn7"
      },
      "source": [
        "sns.violinplot(data=iris_df, y='Species', x='SepalLengthCm', inner='quartile')\n",
        "plt.tight_layout()"
      ],
      "execution_count": null,
      "outputs": []
    },
    {
      "cell_type": "markdown",
      "metadata": {
        "id": "aditeiRvapn7"
      },
      "source": [
        "## Iris Dataset: Classification Models"
      ]
    },
    {
      "cell_type": "markdown",
      "metadata": {
        "id": "WyYdE5THapn7"
      },
      "source": [
        "#### Import Modules"
      ]
    },
    {
      "cell_type": "code",
      "metadata": {
        "id": "AuAJjI0fapn7"
      },
      "source": [
        "from sklearn.model_selection import train_test_split # pembagi dataset menjadi training dan testing set\n",
        "from sklearn.metrics import accuracy_score,confusion_matrix, classification_report # evaluasi performa model"
      ],
      "execution_count": null,
      "outputs": []
    },
    {
      "cell_type": "markdown",
      "metadata": {
        "id": "epTl9O41apn8"
      },
      "source": [
        "#### Dataset: Features & Class Label"
      ]
    },
    {
      "cell_type": "code",
      "metadata": {
        "id": "NWZa96pMapn8"
      },
      "source": [
        "X = iris_df.drop(columns='Species') # menempatkan features ke dalam variable X\n",
        "X.head() # tampilkan 5 baris pertama"
      ],
      "execution_count": null,
      "outputs": []
    },
    {
      "cell_type": "code",
      "metadata": {
        "id": "1GxtaPxOapn8"
      },
      "source": [
        "y = iris_df['Species'] # menempatkan class label (target) ke dalam variabel y\n",
        "y.head() # tampilkan 5 baris pertama"
      ],
      "execution_count": null,
      "outputs": []
    },
    {
      "cell_type": "markdown",
      "metadata": {
        "id": "efwvZzzbapn8"
      },
      "source": [
        "#### Split the dataset into a training set and a testing set"
      ]
    },
    {
      "cell_type": "code",
      "metadata": {
        "id": "If3JIWvIapn9"
      },
      "source": [
        "# membagi dataset ke dalam training dan testing set\n",
        "X_train, X_test, y_train, y_test = train_test_split(X, y, test_size=0.4, random_state=10)\n",
        "\n",
        "print('training dataset')\n",
        "print(X_train.shape)\n",
        "print(y_train.shape)\n",
        "print()\n",
        "print('testing dataset:')\n",
        "print(X_test.shape)\n",
        "print(y_test.shape)"
      ],
      "execution_count": null,
      "outputs": []
    },
    {
      "cell_type": "markdown",
      "metadata": {
        "id": "wol5pNUcapn9"
      },
      "source": [
        "#### K Nearest Neighbors"
      ]
    },
    {
      "cell_type": "code",
      "metadata": {
        "id": "siOaLF7Sapn9"
      },
      "source": [
        "from sklearn.neighbors import KNeighborsClassifier"
      ],
      "execution_count": null,
      "outputs": []
    },
    {
      "cell_type": "code",
      "metadata": {
        "id": "mhee4ZSDapn-"
      },
      "source": [
        "k_range = list(range(1,26))\n",
        "scores = []\n",
        "for k in k_range:\n",
        "    model_knn = KNeighborsClassifier(n_neighbors=k) # konfigurasi algoritma\n",
        "    model_knn.fit(X_train, y_train) # training model/classifier\n",
        "    y_pred = model_knn.predict(X_test) # melakukan prediksi\n",
        "    scores.append(accuracy_score(y_test, y_pred)) # evaluasi performa"
      ],
      "execution_count": null,
      "outputs": []
    },
    {
      "cell_type": "code",
      "metadata": {
        "id": "oU1JHH8Papn-"
      },
      "source": [
        "plt.plot(k_range, scores)\n",
        "plt.xlabel('Value of k for KNN')\n",
        "plt.ylabel('Accuracy Score')\n",
        "plt.title('Accuracy Scores for Values of k of k-Nearest-Neighbors')\n",
        "plt.tight_layout()\n",
        "plt.show()"
      ],
      "execution_count": null,
      "outputs": []
    },
    {
      "cell_type": "code",
      "metadata": {
        "id": "UY9QCtDDapn_"
      },
      "source": [
        "model_knn = KNeighborsClassifier(n_neighbors=3) # konfigurasi algoritma\n",
        "model_knn.fit(X_train,y_train) # training model/classifier\n",
        "y_pred = model_knn.predict(X_test) # melakukan prediksi"
      ],
      "execution_count": null,
      "outputs": []
    },
    {
      "cell_type": "markdown",
      "metadata": {
        "id": "MBqd3Z5Aapn_"
      },
      "source": [
        "##### Accuracy Score"
      ]
    },
    {
      "cell_type": "code",
      "metadata": {
        "id": "EY_1kgMoapn_"
      },
      "source": [
        "print(accuracy_score(y_test, y_pred)) # evaluasi akurasi"
      ],
      "execution_count": null,
      "outputs": []
    },
    {
      "cell_type": "markdown",
      "metadata": {
        "id": "W6m5DT3SapoA"
      },
      "source": [
        "##### Confusion Matrix"
      ]
    },
    {
      "cell_type": "code",
      "metadata": {
        "id": "P3fQ4S-RapoA"
      },
      "source": [
        "print(confusion_matrix(y_test, y_pred)) # evaluasi confusion matrix"
      ],
      "execution_count": null,
      "outputs": []
    },
    {
      "cell_type": "markdown",
      "metadata": {
        "id": "7NdVv1XuapoA"
      },
      "source": [
        "##### Classification Report"
      ]
    },
    {
      "cell_type": "code",
      "metadata": {
        "id": "7fDV1ZarapoB"
      },
      "source": [
        "print(classification_report(y_test, y_pred)) # evaluasi klasifikasi"
      ],
      "execution_count": null,
      "outputs": []
    },
    {
      "cell_type": "markdown",
      "metadata": {
        "id": "A-0el9PiapoB"
      },
      "source": [
        "#### Logistic Regression"
      ]
    },
    {
      "cell_type": "code",
      "metadata": {
        "id": "u1Uf_3JmapoB"
      },
      "source": [
        "from sklearn.linear_model import LogisticRegression"
      ],
      "execution_count": null,
      "outputs": []
    },
    {
      "cell_type": "code",
      "metadata": {
        "id": "j6QRt8gkapoB"
      },
      "source": [
        "# model_logreg = LogisticRegression()\n",
        "model_logreg = LogisticRegression(solver='lbfgs', multi_class='auto')\n",
        "model_logreg.fit(X_train,y_train)\n",
        "y_pred = model_logreg.predict(X_test)"
      ],
      "execution_count": null,
      "outputs": []
    },
    {
      "cell_type": "markdown",
      "metadata": {
        "id": "AeNTosrsapoC"
      },
      "source": [
        "##### Accuracy Score"
      ]
    },
    {
      "cell_type": "code",
      "metadata": {
        "id": "UpIzK-k-apoC"
      },
      "source": [
        "print(accuracy_score(y_test, y_pred))"
      ],
      "execution_count": null,
      "outputs": []
    },
    {
      "cell_type": "markdown",
      "metadata": {
        "id": "_0NtRQ_capoC"
      },
      "source": [
        "##### Confusion Matrix"
      ]
    },
    {
      "cell_type": "code",
      "metadata": {
        "id": "8tJxX6uyapoC"
      },
      "source": [
        "print(confusion_matrix(y_test, y_pred))"
      ],
      "execution_count": null,
      "outputs": []
    },
    {
      "cell_type": "markdown",
      "metadata": {
        "id": "8iL2e-MgapoD"
      },
      "source": [
        "##### Classification Report"
      ]
    },
    {
      "cell_type": "code",
      "metadata": {
        "id": "VrNR1sIhapoD"
      },
      "source": [
        "print(classification_report(y_test, y_pred))"
      ],
      "execution_count": null,
      "outputs": []
    },
    {
      "cell_type": "markdown",
      "metadata": {
        "id": "QL9Zz-QxapoD"
      },
      "source": [
        "#### Support Vector Classifier"
      ]
    },
    {
      "cell_type": "code",
      "metadata": {
        "id": "gzeDz2b9apoD"
      },
      "source": [
        "from sklearn.svm import SVC"
      ],
      "execution_count": null,
      "outputs": []
    },
    {
      "cell_type": "code",
      "metadata": {
        "id": "KYNjfFmGapoD"
      },
      "source": [
        "# model_svc = SVC()\n",
        "model_svc = SVC(gamma='scale')\n",
        "model_svc.fit(X_train,y_train)\n",
        "y_pred = model_svc.predict(X_test)"
      ],
      "execution_count": null,
      "outputs": []
    },
    {
      "cell_type": "markdown",
      "metadata": {
        "id": "6gfm9-kyapoE"
      },
      "source": [
        "#### Decision Tree Classifier"
      ]
    },
    {
      "cell_type": "code",
      "metadata": {
        "id": "zidAWDaCapoE"
      },
      "source": [
        "from sklearn.tree import DecisionTreeClassifier"
      ],
      "execution_count": null,
      "outputs": []
    },
    {
      "cell_type": "code",
      "metadata": {
        "id": "VSpA-ig-apoE"
      },
      "source": [
        "model_dt = DecisionTreeClassifier()\n",
        "model_dt.fit(X_train,y_train)\n",
        "y_pred = model_dt.predict(X_test)"
      ],
      "execution_count": null,
      "outputs": []
    },
    {
      "cell_type": "markdown",
      "metadata": {
        "id": "Ysu2g1vMapoE"
      },
      "source": [
        "#### Random Forest Classifier"
      ]
    },
    {
      "cell_type": "code",
      "metadata": {
        "id": "QcRnlhA6apoF"
      },
      "source": [
        "from sklearn.ensemble import RandomForestClassifier"
      ],
      "execution_count": null,
      "outputs": []
    },
    {
      "cell_type": "code",
      "metadata": {
        "id": "mu6ozZExapoF"
      },
      "source": [
        "# model_rf = RandomForestClassifier()\n",
        "model_rf = RandomForestClassifier(n_estimators=100)\n",
        "model_rf.fit(X_train,y_train)\n",
        "pred_rf = model_rf.predict(X_test)"
      ],
      "execution_count": null,
      "outputs": []
    },
    {
      "cell_type": "markdown",
      "metadata": {
        "id": "4mA7YhT1apoF"
      },
      "source": [
        "#### Accuracy comparision for various models."
      ]
    },
    {
      "cell_type": "code",
      "metadata": {
        "id": "bI0wICKnapoF"
      },
      "source": [
        "models = [model_knn, model_logreg, model_svc, model_dt, model_rf]\n",
        "accuracy_scores = []\n",
        "for model in models:\n",
        "    y_pred = model.predict(X_test)\n",
        "    accuracy = accuracy_score(y_test, y_pred)\n",
        "    accuracy_scores.append(accuracy)\n",
        "    \n",
        "print(accuracy_scores)"
      ],
      "execution_count": null,
      "outputs": []
    },
    {
      "cell_type": "code",
      "metadata": {
        "id": "IKJHWSrNapoG"
      },
      "source": [
        "plt.bar(['KNN', 'LogReg', 'SVC', 'DT', 'RF'],accuracy_scores)\n",
        "plt.ylim(0.90,1.01)\n",
        "plt.title('Accuracy comparision for various models', fontsize=15, color='r')\n",
        "plt.xlabel('Models', fontsize=18, color='g')\n",
        "plt.ylabel('Accuracy Score', fontsize=18, color='g')\n",
        "plt.tight_layout()\n",
        "plt.show()"
      ],
      "execution_count": null,
      "outputs": []
    }
  ]
}